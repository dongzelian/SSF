{
 "cells": [
  {
   "cell_type": "code",
   "execution_count": 8,
   "metadata": {},
   "outputs": [],
   "source": [
    "import sys\n",
    "sys.path.append('../')\n",
    "from data import create_loader, create_dataset\n",
    "from timm.models import create_model\n",
    "from models import vision_transformer\n",
    "\n",
    "import torch"
   ]
  },
  {
   "cell_type": "code",
   "execution_count": 16,
   "metadata": {},
   "outputs": [],
   "source": [
    "model_path = '/data/hjy/SSF/vit_base_patch16_224_in21k/vtab/caltech101/baseline-92.88-173.pth.tar'\n",
    "\n",
    "class ARGS:\n",
    "    def __init__(self):\n",
    "        self.model = 'vit_base_patch16_224_in21k'\n",
    "        self.pretrained = True\n",
    "        self.num_classes = 102\n",
    "        self.drop = 0\n",
    "        self.drop_connect = None\n",
    "        self.drop_path = 0\n",
    "        self.drop_block = None\n",
    "        self.gp = None\n",
    "        self.bn_momentum = None\n",
    "        self.bn_eps = None\n",
    "        self.torchscript = False\n",
    "        self.initial_checkpoint = None\n",
    "        self.tuning_mode = 'ssf'\n",
    "\n",
    "        self.dataset = 'caltech101'\n",
    "        self.data_dir = '/data/datasets/VTAB/VTAB/vtab-1k/caltech101'\n",
    "        self.val_split = 'validation'\n",
    "        self.class_map = ''\n",
    "        self.dataset_download = False\n",
    "        self.batch_size = 128\n",
    "\n",
    "args = ARGS()"
   ]
  },
  {
   "cell_type": "code",
   "execution_count": 10,
   "metadata": {},
   "outputs": [
    {
     "data": {
      "text/plain": [
       "<All keys matched successfully>"
      ]
     },
     "execution_count": 10,
     "metadata": {},
     "output_type": "execute_result"
    }
   ],
   "source": [
    "model = create_model(\n",
    "        args.model,\n",
    "        pretrained=args.pretrained,\n",
    "        num_classes=args.num_classes,\n",
    "        drop_rate=args.drop,\n",
    "        drop_connect_rate=args.drop_connect,  # DEPRECATED, use drop_path\n",
    "        drop_path_rate=args.drop_path,\n",
    "        drop_block_rate=args.drop_block,\n",
    "        global_pool=args.gp,\n",
    "        bn_momentum=args.bn_momentum,\n",
    "        bn_eps=args.bn_eps,\n",
    "        scriptable=args.torchscript,\n",
    "        checkpoint_path=args.initial_checkpoint,\n",
    "        tuning_mode=args.tuning_mode)\n",
    "\n",
    "model.cuda()\n",
    "checkpoint = torch.load(model_path)\n",
    "model_state_dict = checkpoint['state_dict']\n",
    "model.load_state_dict(model_state_dict, strict=False)"
   ]
  },
  {
   "cell_type": "code",
   "execution_count": 17,
   "metadata": {},
   "outputs": [],
   "source": [
    "dataset_eval = create_dataset(\n",
    "        args.dataset, root=args.data_dir, split=args.val_split, is_training=False,\n",
    "        class_map=args.class_map,\n",
    "        download=args.dataset_download,\n",
    "        batch_size=args.batch_size)"
   ]
  }
 ],
 "metadata": {
  "kernelspec": {
   "display_name": "ssfn",
   "language": "python",
   "name": "python3"
  },
  "language_info": {
   "codemirror_mode": {
    "name": "ipython",
    "version": 3
   },
   "file_extension": ".py",
   "mimetype": "text/x-python",
   "name": "python",
   "nbconvert_exporter": "python",
   "pygments_lexer": "ipython3",
   "version": "3.10.0"
  },
  "orig_nbformat": 4
 },
 "nbformat": 4,
 "nbformat_minor": 2
}
